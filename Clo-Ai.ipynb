{
 "nbformat": 4,
 "nbformat_minor": 0,
 "metadata": {
  "colab": {
   "name": "Clo-Ai.ipynb",
   "private_outputs": true,
   "provenance": [],
   "collapsed_sections": [],
   "mount_file_id": "1OYgIYR4xK2uxub9GWbHGLiYQHgJxmMDH",
   "authorship_tag": "ABX9TyNlbL8sN5gYffKHX4/EuvTu"
  },
  "kernelspec": {
   "name": "python3",
   "display_name": "Python 3"
  },
  "language_info": {
   "name": "python"
  },
  "accelerator": "GPU",
  "gpuClass": "standard"
 },
 "cells": [
  {
   "cell_type": "code",
   "execution_count": 1,
   "metadata": {
    "id": "TjCmwb6DRXly",
    "pycharm": {
     "name": "#%%\n"
    }
   },
   "outputs": [],
   "source": [
    "import numpy as np\n",
    "import torch.nn as nn\n",
    "import torch\n",
    "import yaml as yaml\n",
    "from torch.utils.data import Dataset, DataLoader\n",
    "import torch.optim as optim\n",
    "import time\n",
    "from torch.utils.tensorboard import SummaryWriter\n",
    "import torchvision.transforms as T\n",
    "import tensorboard\n",
    "from IPython.display import display, clear_output\n",
    "from tqdm import tqdm\n",
    "import yaml\n",
    "import time\n",
    "# from torchsummary import summary\n",
    "import os\n",
    "from math import ceil\n",
    "import matplotlib.pyplot as plt\n",
    "import pandas as pd\n",
    "from zipfile import ZipFile\n",
    "import torch.nn.functional as f\n"
   ]
  },
  {
   "cell_type": "code",
   "source": [
    "# path = ZipFile('E:\\\\Python\\\\Clo-Ai\\\\Clo-Ai\\\\archive.zip')\n",
    "# path.extractall()"
   ],
   "metadata": {
    "id": "Ew29qixn_oES",
    "pycharm": {
     "name": "#%%\n"
    }
   },
   "execution_count": 2,
   "outputs": []
  },
  {
   "cell_type": "code",
   "execution_count": 3,
   "outputs": [],
   "source": [
    "# print(os.getcwd())"
   ],
   "metadata": {
    "collapsed": false,
    "pycharm": {
     "name": "#%%\n"
    }
   }
  },
  {
   "cell_type": "code",
   "source": [
    "data_csv = pd.read_csv('E:\\\\Python\\\\Clo-Ai\\\\Clo-Ai\\\\images.csv')\n",
    "data_csv.head()\n",
    "data_csv = data_csv.drop('sender_id', axis=1)"
   ],
   "metadata": {
    "id": "6iEniy6QBI1a",
    "pycharm": {
     "name": "#%%\n"
    }
   },
   "execution_count": 4,
   "outputs": []
  },
  {
   "cell_type": "code",
   "source": [
    "class DataSetManual(Dataset):\n",
    "    def __init__(self,\n",
    "                 data_csv_income,\n",
    "                 images_path: str = './',\n",
    "                 transform=None):\n",
    "        super().__init__()\n",
    "        self.transform = transform\n",
    "        self.images_path = images_path\n",
    "        self.data_csv_income = data_csv_income\n",
    "        self.name = data_csv_income['image']\n",
    "        self.label = data_csv_income['label']\n",
    "        vpa = data_csv['label']\n",
    "        self.materials_name_func, self.materials_list_func = self.material_founder()\n",
    "        self.materials = {}\n",
    "        self.dict_labels = {}\n",
    "        self.dict_materials = {}\n",
    "        for i in range(len(vpa)):\n",
    "            if vpa[i] not in self.dict_labels:\n",
    "                self.dict_labels[vpa[i]] = len(self.dict_labels)\n",
    "        self.list_labels = list(self.dict_labels)\n",
    "        for i in range(len(self.materials_name_func)):\n",
    "            if self.materials_name_func[i] not in self.dict_materials:\n",
    "                self.dict_materials[self.materials_name_func[i]] = len(self.dict_materials)\n",
    "        self.list_materials = list(self.dict_materials)\n",
    "\n",
    "    def load_classes(self, src: str = None):\n",
    "        if src is not None:\n",
    "            with open(src, 'r') as read:\n",
    "                classes = yaml.full_load(read)\n",
    "                self.dict_labels = classes[0]\n",
    "                self.dict_materials = classes[1]\n",
    "\n",
    "    def material_founder(self):\n",
    "\n",
    "        type_cl = []\n",
    "        type_nl = []\n",
    "        for i in range(self.__len__()):\n",
    "            if self.label[i] == 'Not sure':\n",
    "                type_cl.append('Not sure')\n",
    "                type_nl.append(0)\n",
    "\n",
    "            if self.label[i] == 'T-Shirt':\n",
    "                type_cl.append('thread')\n",
    "                type_nl.append(1)\n",
    "\n",
    "            if self.label[i] == 'Shoes':\n",
    "                type_cl.append('Canvas / rubber / plastics')\n",
    "                type_nl.append(2)\n",
    "\n",
    "            if self.label[i] == 'Shorts':\n",
    "                type_cl.append('Denim')\n",
    "                type_nl.append(3)\n",
    "\n",
    "            if self.label[i] == 'Shirt':\n",
    "                type_cl.append('Poplin')\n",
    "                type_nl.append(4)\n",
    "\n",
    "            if self.label[i] == 'Pants':\n",
    "                type_cl.append('cotton / wool')\n",
    "                type_nl.append(5)\n",
    "\n",
    "            if self.label[i] == 'Skirt':\n",
    "                type_cl.append('Cotton / Linen')\n",
    "                type_nl.append(6)\n",
    "\n",
    "            if self.label[i] == 'Other':\n",
    "                type_cl.append('Other')\n",
    "                type_nl.append(7)\n",
    "\n",
    "            if self.label[i] == 'Top':\n",
    "                type_cl.append('UnKnown-Top')\n",
    "                type_nl.append(8)\n",
    "\n",
    "            if self.label[i] == 'Outwear':\n",
    "                type_cl.append('Polyester ')\n",
    "                type_nl.append(9)\n",
    "\n",
    "            if self.label[i] == 'Dress':\n",
    "                type_cl.append('fabrics')\n",
    "                type_nl.append(10)\n",
    "\n",
    "            if self.label[i] == 'Body':\n",
    "                type_cl.append('UnKnown-Body')\n",
    "                type_nl.append(11)\n",
    "\n",
    "            if self.label[i] == 'Longsleeve':\n",
    "                type_cl.append(' polyester / cotton')\n",
    "                type_nl.append(12)\n",
    "\n",
    "            if self.label[i] == 'Undershirt':\n",
    "                type_cl.append('cotton / linen')\n",
    "                type_nl.append(13)\n",
    "\n",
    "            if self.label[i] == 'Hat':\n",
    "                type_cl.append('Polyester / straw')\n",
    "                type_nl.append(14)\n",
    "\n",
    "            if self.label[i] == 'Polo':\n",
    "                type_cl.append('polyester / rayon')\n",
    "                type_nl.append(15)\n",
    "\n",
    "            if self.label[i] == 'Blouse':\n",
    "                type_cl.append('Georgette / Crêpe')\n",
    "                type_nl.append(16)\n",
    "\n",
    "            if self.label[i] == 'Hoodie':\n",
    "                type_cl.append('jeans / tartan')\n",
    "                type_nl.append(17)\n",
    "\n",
    "            if self.label[i] == 'Skip':\n",
    "                type_cl.append('Skip')\n",
    "                type_nl.append(18)\n",
    "\n",
    "            if self.label[i] == 'Blazer':\n",
    "                type_cl.append('Worsted Wool / Flannel / Fresco')\n",
    "                type_nl.append(19)\n",
    "        return type_cl, type_nl\n",
    "\n",
    "    def __len__(self):\n",
    "        return len(self.name)\n",
    "\n",
    "    def __getitem__(self, item):\n",
    "        image = plt.imread(f'{self.images_path}\\\\{self.name[item]}.jpg')\n",
    "        image = torch.FloatTensor(image)\n",
    "        image = image.permute(2, 0, 1)\n",
    "        if image.shape[0] == 4:\n",
    "            image = image[:3, :, :]\n",
    "\n",
    "        image = T.Normalize((0, 0, 0), (1, 1, 1))(image)\n",
    "        image = T.ToPILImage()(image)\n",
    "\n",
    "        image = T.Resize((224, 224))(image)\n",
    "        image = T.ToTensor()(image)\n",
    "        label = self.label[item]\n",
    "        target = torch.zeros(40)\n",
    "        target[self.dict_labels[label]] = 1\n",
    "        target[self.materials_list_func[item] + 20] = 1\n",
    "        ignorance = {\n",
    "            'Not sure',\n",
    "            'Skip',\n",
    "            'Top',\n",
    "            'Other'\n",
    "        }\n",
    "        return image, target"
   ],
   "metadata": {
    "id": "xGxDcmnUDiCI",
    "pycharm": {
     "name": "#%%\n"
    }
   },
   "execution_count": 5,
   "outputs": []
  },
  {
   "cell_type": "code",
   "source": [
    "dsm = DataSetManual(data_csv, 'E:\\\\Python\\\\Clo-Ai\\\\Clo-Ai\\\\images_original')\n"
   ],
   "metadata": {
    "id": "xjuetFnaJurY",
    "pycharm": {
     "name": "#%%\n"
    }
   },
   "execution_count": 6,
   "outputs": []
  },
  {
   "cell_type": "code",
   "source": [
    "def imshow(\n",
    "\n",
    "        x_inp: torch.Tensor,\n",
    "        y_inp: str = 'Not Sure',\n",
    "        m_inp: str = 'Not Sure',\n",
    "        model_1=None,\n",
    "        model_2=None\n",
    ") -> None:\n",
    "    ...\n",
    "\n",
    "    if len(x_inp.shape) == 3:\n",
    "        x_inp = x_inp.permute(2, 1, 0)\n",
    "    else:\n",
    "        x_inp = x.view(x_inp.shape[1], x_inp.shape[2], x_inp.shape[3])\n",
    "        x_inp = x_inp.permute(2, 1, 0)\n",
    "    plt.imshow(x_inp.cpu(), )\n",
    "    y_inp = y_inp.detach().numpy()\n",
    "    if len(y_inp.shape) == 2:\n",
    "        y_inp = y_inp[0]\n",
    "    type_la = y_inp[0:20]\n",
    "\n",
    "    material_l = y_inp[20:]\n",
    "\n",
    "    type_l = np.argmax(type_la, axis=0)\n",
    "    material_l = np.argmax(material_l, axis=0)\n",
    "    x_inp = x_inp.reshape(1, 3, 224, 224)\n",
    "    x_inp = x_inp.cuda()\n",
    "    if model_1 is not None:\n",
    "        pred = model_1.forward(x_inp, predicting=True)\n",
    "        i, j = prediction_finder(pred)\n",
    "        print(pred[0, 50])\n",
    "        print('type predict : ', dsm.list_labels[torch.argmax(pred[0, 50])])\n",
    "\n",
    "    if model_2 is not None:\n",
    "        pred_2 = model_2.forward(x_inp, predicting=True)\n",
    "        i, j = prediction_finder(pred_2)\n",
    "        print(pred_2[0, 50])\n",
    "        print(f'material is : {dsm.list_materials[torch.argmax(pred_2[0, 50])]}')\n",
    "    print(f'type is : {dsm.list_labels[type_l]}  || material is : {dsm.list_materials[material_l]}')"
   ],
   "metadata": {
    "id": "VCA5ONpDRop2",
    "pycharm": {
     "name": "#%%\n"
    }
   },
   "execution_count": 7,
   "outputs": []
  },
  {
   "cell_type": "code",
   "source": [
    "# DEVICE = 'cuda:0' if torch.cuda.is_available() else 'cpu'\n",
    "DEVICE = 'cpu'\n",
    "#\n",
    "# for index in range(dsm.__len__()):\n",
    "#     _, _ = dsm.__getitem__(index)\n",
    "#     IPython.display.display(index)\n",
    "#     IPython.display.clear_output(wait=True)\n",
    "classes = [\n",
    "    dsm.dict_labels,\n",
    "    dsm.dict_materials\n",
    "]\n",
    "with open('classes.yaml','w') as wr:\n",
    "    yaml.dump(classes,wr)"
   ],
   "metadata": {
    "id": "E3cuz1S2iktA",
    "pycharm": {
     "name": "#%%\n"
    }
   },
   "execution_count": 8,
   "outputs": []
  },
  {
   "cell_type": "code",
   "source": [
    "class Conv(nn.Module):\n",
    "    def __init__(\n",
    "            self,\n",
    "            in_channels: int = 3,\n",
    "            out_channels: int = 32,\n",
    "            kernel_size: int = 1,\n",
    "            stride: int = 1,\n",
    "            padding: int = 0,\n",
    "            groups: int = 1,\n",
    "            use_bn: bool = True,\n",
    "            use_ac: bool = True\n",
    "    ):\n",
    "        ...\n",
    "        super().__init__()\n",
    "        self.use_bn = use_bn\n",
    "        self.use_ac = use_ac\n",
    "        self.c_in = in_channels\n",
    "        self.c_out = out_channels\n",
    "        self.conv = nn.Conv2d(in_channels, out_channels, groups=groups, kernel_size=kernel_size, stride=stride,\n",
    "                              padding=padding).to(DEVICE)\n",
    "        self.activation = nn.LeakyReLU().to(DEVICE)\n",
    "        self.batch_norm = nn.BatchNorm2d(out_channels).to(DEVICE)\n",
    "\n",
    "    def forward(self, x: torch.Tensor) -> torch.Tensor:\n",
    "        x = self.conv(x)\n",
    "        if self.use_bn:\n",
    "            x = self.batch_norm(x)\n",
    "        if self.use_ac:\n",
    "            x = self.activation(x)\n",
    "\n",
    "        return x\n"
   ],
   "metadata": {
    "id": "USXcZLmOljnI",
    "pycharm": {
     "name": "#%%\n"
    }
   },
   "execution_count": 9,
   "outputs": []
  },
  {
   "cell_type": "code",
   "source": [
    "class ResidualBlock(nn.Module):\n",
    "    def __init__(self,\n",
    "                 c_inside: int = 3,\n",
    "                 times: int = 1,\n",
    "                 use_residual: bool = True\n",
    "                 ):\n",
    "        ...\n",
    "        super().__init__()\n",
    "\n",
    "        self.layer = nn.ModuleList()\n",
    "\n",
    "        self.use_residual = use_residual\n",
    "\n",
    "        for i in range(times):\n",
    "            self.layer.append(\n",
    "                nn.Sequential(\n",
    "                    Conv(in_channels=c_inside, out_channels=c_inside // 2, kernel_size=1, stride=1, use_bn=True,\n",
    "                         use_ac=True),\n",
    "                    Conv(in_channels=c_inside // 2, out_channels=c_inside, kernel_size=3, stride=1, padding=1,\n",
    "                         use_bn=True, use_ac=False)\n",
    "                )\n",
    "            )\n",
    "\n",
    "    def forward(self, x):\n",
    "        for layer in self.layer:\n",
    "            x = layer(x) + x if self.use_residual else layer(x)\n",
    "        return x"
   ],
   "metadata": {
    "id": "fRddYVIvoeGK",
    "pycharm": {
     "name": "#%%\n"
    }
   },
   "execution_count": 10,
   "outputs": []
  },
  {
   "cell_type": "code",
   "source": [
    "class ConvPool(nn.Module):\n",
    "    def __init__(self, in_c, out_c, **kwargs):\n",
    "        super().__init__()\n",
    "        self.cv1 = Conv(in_c, in_c, kernel_size=3, stride=1)\n",
    "        self.cv2 = Conv(in_c, out_c, kernel_size=3, stride=1)\n",
    "        self.pool = nn.MaxPool2d(kernel_size=3, stride=2)\n",
    "\n",
    "    def forward(self, x):\n",
    "        return self.pool(self.cv2(self.cv1(x)))"
   ],
   "metadata": {
    "id": "1XphOrwirpMG",
    "pycharm": {
     "name": "#%%\n"
    }
   },
   "execution_count": 11,
   "outputs": []
  },
  {
   "cell_type": "code",
   "source": [
    "class ConvPoolCM(nn.Module):\n",
    "    def __init__(self, in_c, out_c, in_c2, out_c2):\n",
    "        super().__init__()\n",
    "        self.cv1 = Conv(in_c, out_c, kernel_size=3, stride=1)\n",
    "        self.cv2 = Conv(in_c2, out_c2, kernel_size=3, stride=1)\n",
    "        self.max_pool = nn.MaxPool2d(kernel_size=3, stride=2)\n",
    "\n",
    "    def forward(self, x):\n",
    "        return self.max_pool(self.cv2(self.cv1(x)))"
   ],
   "metadata": {
    "id": "Jf33djR-v8BK",
    "pycharm": {
     "name": "#%%\n"
    }
   },
   "execution_count": 12,
   "outputs": []
  },
  {
   "cell_type": "code",
   "source": [
    "class MiddleFlow(nn.Module):\n",
    "    def __init__(self, in_c):\n",
    "        super().__init__()\n",
    "        self.cv1 = Conv(in_c, in_c, kernel_size=3, stride=1)\n",
    "        self.cv2 = Conv(in_c, in_c, kernel_size=3, stride=1)\n",
    "        self.cv3 = Conv(in_c, in_c, kernel_size=3, stride=1)\n",
    "\n",
    "    def forward(self, x):\n",
    "        return self.cv3(self.cv2(self.cv1(x)))"
   ],
   "metadata": {
    "id": "YPhG9fNkrq-7",
    "pycharm": {
     "name": "#%%\n"
    }
   },
   "execution_count": 13,
   "outputs": []
  },
  {
   "cell_type": "code",
   "source": [
    "class ConvRoute(nn.Module):\n",
    "    def __init__(self, in_c, out_c, kernel_size):\n",
    "        super().__init__()\n",
    "        self.cv = Conv(in_c, out_c, kernel_size=kernel_size, stride=2)\n",
    "\n",
    "    def forward(self, x):\n",
    "        return self.cv(x)"
   ],
   "metadata": {
    "id": "6Kw8JOf7t3LC",
    "pycharm": {
     "name": "#%%\n"
    }
   },
   "execution_count": 14,
   "outputs": []
  },
  {
   "cell_type": "code",
   "source": [
    "\n",
    "v_config = [\n",
    "    ['conv', [3, 32, 3, 2, 0]],\n",
    "    ['conv', [32, 64, 3, 1, 0]],\n",
    "    ['conv_route', [64, 128, 6]],\n",
    "    ['conv_pool', [64, 128, 3, 1, 0]],\n",
    "    ['conv_route', [256, 256, 6]],\n",
    "    ['conv_pool', [256, 256, 3, 1, 0]],\n",
    "    ['conv_route', [256, 728, 6]],\n",
    "    ['conv_pool', [256, 728, 3, 1, 0]],\n",
    "    ['middle_flow', [728], 8],\n",
    "    ['conv_route', [728, 1024, 3]],\n",
    "    ['conv_pool_cm', [728, 728, 728, 1024]],\n",
    "    ['conv', [1024, 1280, 2, 1, 0]],\n",
    "    ['linear', [1280, 20]]\n",
    "]\n",
    "\n",
    "v_config_C = [\n",
    "    ['conv', [3, 32, 3, 2, 0], [True, True]],\n",
    "    ['conv', [32, 64, 3, 1, 0], [True, True]],\n",
    "    ['conv_route', [64, 128, 7]],\n",
    "    ['conv_pool', [64, 128, 3, 1, 0]],\n",
    "    ['conv_route', [256, 256, 7]],\n",
    "    ['conv_pool', [256, 256, 3, 1, 0]],\n",
    "    ['middle_flow', [512], 2],\n",
    "    ['conv_route', [512, 1024, 6]],\n",
    "    ['conv_pool_cm', [512, 728, 728, 1024]],\n",
    "    ['conv', [2048, 1280, 3, 1, 0], [True, False]],\n",
    "    ['linear', [1280, 20]]\n",
    "]\n",
    "\n",
    "config_layer = [\n",
    "    [1, 16, 1, 1, 3],\n",
    "    [6, 24, 2, 2, 3],\n",
    "    [6, 40, 2, 2, 5],\n",
    "    [6, 80, 3, 2, 3],\n",
    "    [6, 112, 3, 1, 5],\n",
    "    [6, 192, 4, 2, 5],\n",
    "    [6, 320, 1, 1, 3]\n",
    "]\n",
    "\n",
    "alpha_beta = {\n",
    "    'b0': (0, 224, 0.2),\n",
    "    'b1': (0.5, 240, 0),\n",
    "    'b2': (1, 260, 0.3),\n",
    "    'b3': (2, 300, 0.3),\n",
    "    'b4': (3, 380, 0.4),\n",
    "    'b5': (4, 456, 0.4),\n",
    "    'b6': (5, 528, 0.5),\n",
    "    'b7': (6, 600, 0.5),\n",
    "}\n"
   ],
   "metadata": {
    "id": "EiWGSiuJqL9T",
    "pycharm": {
     "name": "#%%\n"
    }
   },
   "execution_count": 15,
   "outputs": []
  },
  {
   "cell_type": "code",
   "source": [
    "class Network(nn.Module):\n",
    "    def __init__(self, config):\n",
    "        super(Network, self).__init__()\n",
    "        self.config = config\n",
    "        self.layers = self.layer_creator()\n",
    "\n",
    "    def layer_creator(self):\n",
    "        base = nn.ModuleList()\n",
    "\n",
    "        for layer in self.config:\n",
    "\n",
    "            if layer[0] == 'conv':\n",
    "                base.append(\n",
    "                    Conv(layer[1][0], layer[1][1], layer[1][2], layer[1][3], use_ac=layer[2][0], use_bn=layer[2][1])\n",
    "                )\n",
    "            elif layer[0] == 'residual':\n",
    "                base.append(\n",
    "                    ResidualBlock(layer[1][0], layer[2])\n",
    "                )\n",
    "            elif layer[0] == 'up':\n",
    "                base.append(\n",
    "                    nn.Upsample(scale_factor=layer[1])\n",
    "                )\n",
    "            elif layer[0] == 'linear':\n",
    "                base.append(\n",
    "                    nn.Sequential(\n",
    "                        nn.Linear(layer[1][0], layer[1][1]).to(DEVICE),\n",
    "                    )\n",
    "                )\n",
    "            elif layer[0] == 'max_pool':\n",
    "                base.append(\n",
    "                    nn.MaxPool2d(layer[1][0], layer[1][1])\n",
    "                )\n",
    "            elif layer[0] == 'middle_flow':\n",
    "                for _ in range(layer[2]):\n",
    "                    base.append(\n",
    "                        MiddleFlow(layer[1][0])\n",
    "                    )\n",
    "            elif layer[0] == 'conv_pool':\n",
    "                base.append(\n",
    "                    ConvPool(layer[1][0], layer[1][1])\n",
    "                )\n",
    "            elif layer[0] == 'conv_route':\n",
    "                base.append(\n",
    "                    ConvRoute(layer[1][0], layer[1][1], layer[1][2])\n",
    "                )\n",
    "            elif layer[0] == 'conv_pool_cm':\n",
    "                base.append(\n",
    "                    ConvPoolCM(layer[1][0], layer[1][1], layer[1][2], layer[1][3], )\n",
    "                )\n",
    "\n",
    "        return base\n",
    "\n",
    "    def forward(self, x, debug: bool = False, predicting: bool = False):\n",
    "        route = []\n",
    "        i = 0\n",
    "        for layer in self.layers:\n",
    "\n",
    "            if debug:\n",
    "                print(f'{x.shape} Before layer')\n",
    "\n",
    "            if isinstance(layer, Conv):\n",
    "                x = layer(x)\n",
    "            if isinstance(layer, ConvRoute):\n",
    "                route.append(layer(x))\n",
    "                i += 1\n",
    "            if isinstance(layer, ConvPool):\n",
    "                x = layer(x)\n",
    "                if i > 0:\n",
    "                    x = torch.cat((x, route[-1]), dim=1)\n",
    "\n",
    "                    route.pop(-1)\n",
    "\n",
    "            if isinstance(layer, MiddleFlow):\n",
    "                x = layer(x)\n",
    "                i = 0\n",
    "                route = []\n",
    "\n",
    "            if isinstance(layer, ConvPoolCM):\n",
    "                x = layer(x)\n",
    "\n",
    "                x = torch.cat((x, route[-1]), dim=1)\n",
    "                route.pop(-1)\n",
    "            if isinstance(layer, nn.Sequential):\n",
    "                x = x.view(1, -1)\n",
    "                x = layer(x)\n",
    "\n",
    "            if debug:\n",
    "                print(f'{x.shape} after layer \\n ----------------')\n",
    "\n",
    "        if predicting:\n",
    "            min = torch.min(x)\n",
    "            x += abs(min.detach())\n",
    "\n",
    "            max = torch.max(x)\n",
    "            x /= max\n",
    "        return x"
   ],
   "metadata": {
    "id": "hM5CICF5Mo93",
    "pycharm": {
     "name": "#%%\n"
    }
   },
   "execution_count": 16,
   "outputs": []
  },
  {
   "cell_type": "code",
   "source": [],
   "metadata": {
    "id": "n5NZgtVImGtg",
    "pycharm": {
     "name": "#%%\n"
    }
   },
   "execution_count": 16,
   "outputs": []
  },
  {
   "cell_type": "code",
   "source": [
    "def prediction_finder(y_income):\n",
    "    y_income = y_income[0]\n",
    "\n",
    "    for i in range(y_income.shape[0]):\n",
    "        for j in range(y_income.shape[1]):\n",
    "\n",
    "            if y_income[i, j] == 1:\n",
    "                return i, j"
   ],
   "metadata": {
    "id": "bsh-lNvjpsuj",
    "pycharm": {
     "name": "#%%\n"
    }
   },
   "execution_count": 17,
   "outputs": []
  },
  {
   "cell_type": "code",
   "source": [
    "def predictor(x_income, y_income) -> int:\n",
    "    ttr_material = 0\n",
    "    ffl_material = 0\n",
    "    fin = {}\n",
    "    for i in range(x_income.shape[1]):\n",
    "\n",
    "        guss = torch.argmax(x_income[0, i])\n",
    "        true = torch.argmax(y_income)\n",
    "\n",
    "        cpa = fin.get(f'{guss}')\n",
    "        if cpa == None:\n",
    "            cpa = 0\n",
    "        fin[f'{guss}'] = cpa + 1\n",
    "        if guss == true:\n",
    "            ttr_material += 1\n",
    "        else:\n",
    "            ffl_material += 1\n",
    "    highest = None\n",
    "    highest_num = 0\n",
    "    for fl in fin:\n",
    "        if fin[fl] > highest_num:\n",
    "            highest_name = fl\n",
    "            highest_num = fin[fl]\n",
    "\n",
    "    highest = int(highest_name)\n",
    "    return 1 if highest == true else 0"
   ],
   "metadata": {
    "id": "0YOahEl95mF6",
    "pycharm": {
     "name": "#%%\n"
    }
   },
   "execution_count": 18,
   "outputs": []
  },
  {
   "cell_type": "code",
   "source": [
    "model_type = Network(config=v_config_C)\n",
    "model_material = Network(config=v_config_C)\n",
    "\n",
    "loss_cel_type = nn.CrossEntropyLoss()\n",
    "optimizer_type = optim.Adam(model_type.parameters(), 3e-4)\n",
    "# if DEVICE == 'cuda:0':\n",
    "scalar_type = torch.cuda.amp.GradScaler()\n",
    "\n",
    "loss_cel_material = nn.CrossEntropyLoss()\n",
    "optimizer_material = optim.Adam(model_material.parameters(), 3e-4)\n",
    "# if DEVICE == 'cuda:0':\n",
    "scalar_material = torch.cuda.amp.GradScaler()\n",
    "\n",
    "\n"
   ],
   "metadata": {
    "id": "89pIZLdAse3y",
    "pycharm": {
     "name": "#%%\n"
    }
   },
   "execution_count": 19,
   "outputs": []
  },
  {
   "cell_type": "code",
   "execution_count": 20,
   "outputs": [
    {
     "data": {
      "text/plain": "<All keys matched successfully>"
     },
     "execution_count": 20,
     "metadata": {},
     "output_type": "execute_result"
    }
   ],
   "source": [
    "model_type.load_state_dict(torch.load('E:\\\\Python\\\\Clo-Ai\\\\Clo-Ai\\\\model_type.pt'))\n",
    "model_material.load_state_dict(torch.load('E:\\\\Python\\\\Clo-Ai\\\\Clo-Ai\\\\model_material.pt'))\n",
    "optimizer_type.load_state_dict(torch.load('E:\\\\Python\\\\Clo-Ai\\\\Clo-Ai\\\\optimizer_type.pt'))\n",
    "optimizer_material.load_state_dict(torch.load('E:\\\\Python\\\\Clo-Ai\\\\Clo-Ai\\\\optimizer_material.pt'))\n",
    "loss_cel_type.load_state_dict(torch.load('E:\\\\Python\\\\Clo-Ai\\\\Clo-Ai\\\\loss_cel_type.pt'))\n",
    "loss_cel_material.load_state_dict(torch.load('E:\\\\Python\\\\Clo-Ai\\\\Clo-Ai\\\\loss_cel_material.pt'))"
   ],
   "metadata": {
    "collapsed": false,
    "pycharm": {
     "name": "#%%\n"
    }
   }
  },
  {
   "cell_type": "code",
   "execution_count": 21,
   "outputs": [],
   "source": [
    "writer = SummaryWriter()"
   ],
   "metadata": {
    "collapsed": false,
    "pycharm": {
     "name": "#%%\n"
    }
   }
  },
  {
   "cell_type": "code",
   "execution_count": 23,
   "outputs": [],
   "source": [
    "input_names = ['input']\n",
    "output_names = ['output']\n",
    "dummy_input = torch.randn(1, 3, 224, 224)\n",
    "torch.onnx.export(\n",
    "    model_type,\n",
    "    dummy_input,\n",
    "    'model_type.onnx',\n",
    "    verbose=False,\n",
    "    input_names=input_names,\n",
    "    output_names=output_names,\n",
    "    export_params=True\n",
    ")\n",
    "torch.onnx.export(\n",
    "    model_material,\n",
    "    dummy_input,\n",
    "    'model_material.onnx',\n",
    "    verbose=False,\n",
    "    input_names=input_names,\n",
    "    output_names=output_names,\n",
    "    export_params=True\n",
    ")"
   ],
   "metadata": {
    "collapsed": false,
    "pycharm": {
     "name": "#%%\n"
    }
   }
  },
  {
   "cell_type": "code",
   "source": [
    "\n",
    "epochs = 100\n",
    "IMG_SIZE = 224\n",
    "loss_history = []\n",
    "epoch_history = []\n",
    "IMG_CHANELL = 3\n",
    "TOTAL_LOSS_HISTORY = 0\n",
    "\n",
    "confidence_type_true = 0\n",
    "confidence_type_false = 0\n",
    "confidence_mate_true = 0\n",
    "confidence_mate_false = 0\n",
    "\n",
    "ibm = 0\n",
    "\n",
    "dt = 0\n",
    "dn = 0\n",
    "acv = 0\n",
    "\n",
    "pbar = tqdm(range(epochs), leave=True)\n",
    "torch.autograd.set_detect_anomaly(False)\n",
    "for epoch in pbar:\n",
    "    accuracy = 0\n",
    "    TOTAL_LOSS_HISTORY = 0\n",
    "\n",
    "    for index in range(dsm.__len__()):\n",
    "        acc_nm = 0\n",
    "        x, y = dsm.__getitem__(index)\n",
    "        x = x.view(1, IMG_CHANELL, IMG_SIZE, IMG_SIZE).to(DEVICE)\n",
    "\n",
    "        y = y.view(1, -1).to(DEVICE)\n",
    "\n",
    "        y_material = y[0, 20:]\n",
    "        y_type = y[0, :20]\n",
    "        y_type = y_type.view(1, -1)\n",
    "        y_material = y_material.view(1, -1)\n",
    "\n",
    "        optimizer_type.zero_grad()\n",
    "        optimizer_material.zero_grad()\n",
    "\n",
    "        # with torch.cuda.amp.autocast():\n",
    "\n",
    "        y_hat_material = model_material.forward(x, debug=False)\n",
    "        y_hat_type = model_type.forward(x)\n",
    "\n",
    "        y_material = y_material.view(1, -1)\n",
    "        y_type = y_type.view(1, -1)\n",
    "\n",
    "        loss_cel__material_insider = loss_cel_material(y_hat_material, y_material)\n",
    "        loss_cel__type_insider = loss_cel_type(y_hat_type, y_type)\n",
    "\n",
    "        # if DEVICE == 'cuda:0:':\n",
    "        #\n",
    "        # scalar_material.scale(loss_cel__material_insider).backward()\n",
    "        # scalar_material.step(optimizer=optimizer_material)\n",
    "        # scalar_material.update()\n",
    "        #\n",
    "\n",
    "        loss_cel__material_insider.backward()\n",
    "        optimizer_material.step()\n",
    "        TOTAL_LOSS_HISTORY += loss_cel__material_insider.item()\n",
    "\n",
    "        # if DEVICE == 'cuda:0:':\n",
    "        # scalar_type.scale(loss_cel__type_insider).backward()\n",
    "        # scalar_type.step(optimizer=optimizer_type)\n",
    "        # scalar_type.update()\n",
    "        # else:\n",
    "        loss_cel__type_insider.backward()\n",
    "        optimizer_type.step()\n",
    "\n",
    "        TOTAL_LOSS_HISTORY += loss_cel__type_insider.item()\n",
    "\n",
    "        loss_history.append(loss_cel__type_insider.item() + loss_cel__material_insider.item())\n",
    "\n",
    "        if index > 0:\n",
    "            accuracy += 1 if torch.argmax(y_hat_type, dim=1) == torch.argmax(y_type) else 0\n",
    "            acv = accuracy / index\n",
    "            acv *= 100\n",
    "\n",
    "        writer.add_scalar('Loss/Type',loss_cel__type_insider.item(),ibm)\n",
    "        writer.add_scalar('Loss/Material',loss_cel__material_insider.item(),ibm)\n",
    "        writer.add_scalar('Accuracy',acv,ibm)\n",
    "        ibm += 1\n",
    "        pbar.set_description(\n",
    "            f'loss_type : {loss_cel__type_insider.item():.4f} loss material : {loss_cel__material_insider.item():.4f} ,total_loss : {TOTAL_LOSS_HISTORY / index if index != 0 else 1}  index : {index} , ac:{acv}')\n",
    "\n",
    "        if index % 50 == 0:\n",
    "            torch.save(model_material.state_dict(), 'model_material.pt')\n",
    "            torch.save(loss_cel_material.state_dict(), 'loss_cel_material.pt')\n",
    "            torch.save(optimizer_material.state_dict(), 'optimizer_material.pt')\n",
    "\n",
    "            torch.save(model_type.state_dict(), 'model_type.pt')\n",
    "            torch.save(loss_cel_type.state_dict(), 'loss_cel_type.pt')\n",
    "            torch.save(optimizer_type.state_dict(), 'optimizer_type.pt')\n",
    "            writer.flush()"
   ],
   "metadata": {
    "id": "CKaP-Tndswuy",
    "pycharm": {
     "name": "#%%\n",
     "is_executing": true
    }
   },
   "execution_count": null,
   "outputs": [
    {
     "name": "stderr",
     "output_type": "stream",
     "text": [
      "loss_type : 0.0002 loss material : 0.1488 ,total_loss : 0.2261605467300352  index : 1877 , ac:96.48375066595631:   7%|▋         | 7/100 [24:26:12<306:21:04, 11858.76s/it]   "
     ]
    }
   ]
  },
  {
   "cell_type": "code",
   "source": [
    "ac = 0\n",
    "pp_bar = tqdm(range(dsm.__len__() - 4000))\n",
    "for i in pp_bar:\n",
    "    x, y = dsm.__getitem__(i + 4000)\n",
    "    xinp = x.reshape(1, 3, 224, 224)\n",
    "    x = x.reshape(224, 224, 3)\n",
    "    # plt.imshow(x)\n",
    "\n",
    "    y_hat = model_material.forward(xinp)\n",
    "    # print(y_hat)\n",
    "    y = y[20:]\n",
    "    # print(y)\n",
    "    y_hat_arg = torch.argmax(y_hat, dim=1)\n",
    "    y_arg = torch.argmax(y)\n",
    "    # print(y_arg)\n",
    "    # print(y_hat_arg)\n",
    "    if y_arg == y_hat_arg:\n",
    "        ac += 1\n",
    "    if i > 0:\n",
    "        pp_bar.set_description(f' {i} / {(ac / i) * 100:.4f} ')\n",
    "\n",
    "ac /= dsm.__len__() - 4000\n",
    "ac *= 100"
   ],
   "metadata": {
    "id": "9ppuxZpQ8ddF",
    "pycharm": {
     "name": "#%%\n"
    }
   },
   "execution_count": 25,
   "outputs": [
    {
     "name": "stderr",
     "output_type": "stream",
     "text": [
      " 1402 / 35.3067 : 100%|██████████| 1403/1403 [11:41<00:00,  2.00it/s]\n"
     ]
    }
   ]
  },
  {
   "cell_type": "code",
   "source": [
    "print(ac)"
   ],
   "metadata": {
    "id": "RDbbxALv85-1",
    "pycharm": {
     "name": "#%%\n"
    }
   },
   "execution_count": 26,
   "outputs": [
    {
     "name": "stdout",
     "output_type": "stream",
     "text": [
      "35.28153955808981\n"
     ]
    }
   ]
  },
  {
   "cell_type": "code",
   "source": [
    "ac = 0\n",
    "for index in range(4000):\n",
    "    x, y = dsm.__getitem__(index)\n",
    "    x = x.view(1, IMG_CHANELL, IMG_SIZE, IMG_SIZE).to(DEVICE)\n",
    "    y_hat_material = model_material.forward(x)\n",
    "    y_hat_type = model_type.forward(x)\n",
    "\n",
    "    y_material = y[20:]\n",
    "    y_type = y[:20]\n",
    "    y_type = y_type.view(-1)\n",
    "    y_material = y_material.view(-1)\n",
    "    y_hat_type = y_hat_type.view(-1)\n",
    "    if torch.argmax(y_hat_type) == torch.argmax(y_type):\n",
    "        ac += 1\n",
    "    print(torch.argmax(y_hat_type))\n",
    "    print(torch.argmax(y_type))\n",
    "    print(((ac + 1) / (index + 1)) * 100)"
   ],
   "metadata": {
    "id": "JrntgZ8aLooT",
    "pycharm": {
     "name": "#%%\n"
    }
   },
   "execution_count": null,
   "outputs": []
  },
  {
   "cell_type": "code",
   "source": [
    "import yaml\n",
    "\n",
    "with open('type.yaml', 'w') as w:\n",
    "    yaml.dump(dsm.list_labels, w)\n",
    "\n",
    "with open('materials.yaml', 'w') as w:\n",
    "    yaml.dump(dsm.list_materials, w)"
   ],
   "metadata": {
    "id": "g12r-m_L2Vvq",
    "pycharm": {
     "name": "#%%\n"
    }
   },
   "execution_count": null,
   "outputs": []
  },
  {
   "cell_type": "code",
   "source": [],
   "metadata": {
    "id": "cuu-TUUAZjjD",
    "pycharm": {
     "name": "#%%\n"
    }
   },
   "execution_count": null,
   "outputs": []
  },
  {
   "cell_type": "code",
   "source": [],
   "metadata": {
    "id": "nggs4gsuQltJ",
    "pycharm": {
     "name": "#%%\n"
    }
   },
   "execution_count": null,
   "outputs": []
  },
  {
   "cell_type": "code",
   "source": [
    "# torch.save(model.state_dict(),'model.pth.tar')\n",
    "# torch.save(loss_cel.state_dict(),'loss_cel.pth.tar')\n",
    "# torch.save(loss_mse.state_dict(),'loss_mse.pth.tar')\n",
    "# torch.save(optimizer.state_dict(),'optimizer.pth.tar')"
   ],
   "metadata": {
    "id": "g7Sccjaa4ouB",
    "pycharm": {
     "name": "#%%\n"
    }
   },
   "execution_count": null,
   "outputs": []
  },
  {
   "cell_type": "code",
   "source": [
    "epochs = 1\n",
    "IMG_SIZE = 640\n",
    "loss_history = []\n",
    "epoch_history = []\n",
    "IMG_CHANELL = 3\n",
    "TOTAL_LOSS_HISTORY = 0\n",
    "pbar = tqdm(range(5000), leave=True)\n",
    "accuracy = 0\n",
    "# for iteration in pbar:\n",
    "x, y = dsm.__getitem__(4000)\n",
    "x = x.view(1, IMG_CHANELL, IMG_SIZE, IMG_SIZE)\n",
    "y = y.view(1, -1)\n",
    "x = x.to(DEVICE)\n",
    "y = y.to(DEVICE)\n",
    "y_hat = model.forward(x)\n",
    "y_hat = y_hat[0, -1]\n",
    "vva = []\n",
    "for yu in y_hat:\n",
    "    vva.append(0 if yu > 0.8 else 1)\n",
    "vva = torch.FloatTensor(vva)\n",
    "print(f'y_hat : {vva} \\n y : {y}')\n",
    "# time.sleep(1)\n",
    "imshow(x, vva)"
   ],
   "metadata": {
    "id": "LyaR2OmKG_5D",
    "pycharm": {
     "name": "#%%\n"
    }
   },
   "execution_count": null,
   "outputs": []
  },
  {
   "cell_type": "code",
   "source": [
    "scalar = torch.cuda.amp.GradScaler()\n",
    "epochs = 50\n",
    "IMG_SIZE = 640\n",
    "loss_history = []\n",
    "epoch_history = []\n",
    "IMG_CHANELL = 3\n",
    "TOTAL_LOSS_HISTORY = 0\n",
    "\n",
    "acc_nm = 0\n",
    "x, y = dsm.__getitem__(1)\n",
    "x = x.view(1, IMG_CHANELL, IMG_SIZE, IMG_SIZE)\n",
    "y = y.view(1, -1)\n",
    "ys = torch.zeros(1, 256, 41)\n",
    "ys[:, 0:, :] = y\n",
    "\n",
    "x = x.to(DEVICE)\n",
    "\n",
    "y = y.to(DEVICE)\n",
    "\n",
    "optimizer.zero_grad()\n",
    "\n",
    "with torch.cuda.amp.autocast():\n",
    "    x, output = model.forward(x)\n",
    "\n",
    "    tpl_output = output[0, :, 1:].float().squeeze_().view(1, -1, 40)\n",
    "    tpl_y = y[:, 1:].long().squeeze_().view(-1, 40)\n",
    "    loss_mse_insider = loss_mse(torch.sigmoid(output[0, :, 0:1]), ys[0, :, 0:1].view(-1, 1).cuda())\n",
    "    loss_cel_insider = loss_cel(tpl_output, tpl_y)\n",
    "    total_loss = (loss_mse_insider + loss_cel_insider)\n",
    "scalar.scale(total_loss).backward()\n",
    "scalar.step(optimizer=optimizer)\n",
    "TOTAL_LOSS_HISTORY += total_loss.item()\n",
    "scalar.update()\n",
    "xps = torch.zeros(1, 40)\n",
    "loss_history.append(total_loss.item())\n",
    "mjx = torch.argmax(tpl_output, dim=1)\n",
    "smx = output[0, mjx]\n",
    "for i in range(40):\n",
    "    # print(smx.shape)\n",
    "    t = 0 if smx[0, smx.shape[1] - 1, i + 1] > 0.5 else 1\n",
    "    xps[0, i] = t\n",
    "print(total_loss.item())\n",
    "for i in range(40):\n",
    "    if xps[0, i] == y[0, i]:\n",
    "        acc_nm += 1\n",
    "accuracy += 1 if acc_nm == 40 else 0\n",
    "ac = (accuracy / index if index != 0 else 1) * 100"
   ],
   "metadata": {
    "id": "HMCaXTvLCL7e",
    "pycharm": {
     "name": "#%%\n"
    }
   },
   "execution_count": null,
   "outputs": []
  },
  {
   "cell_type": "code",
   "source": [
    "tpl_output.shape"
   ],
   "metadata": {
    "id": "cgEnv6OpAt8u",
    "pycharm": {
     "name": "#%%\n"
    }
   },
   "execution_count": null,
   "outputs": []
  },
  {
   "cell_type": "code",
   "source": [
    "tpl_y.shape"
   ],
   "metadata": {
    "id": "eYYMa_7AMoA-",
    "pycharm": {
     "name": "#%%\n"
    }
   },
   "execution_count": null,
   "outputs": []
  },
  {
   "cell_type": "code",
   "source": [
    "output[0, :, 0:1].shape"
   ],
   "metadata": {
    "id": "729buljYMr2W",
    "pycharm": {
     "name": "#%%\n"
    }
   },
   "execution_count": null,
   "outputs": []
  },
  {
   "cell_type": "code",
   "source": [],
   "metadata": {
    "id": "12-3XVXXNZiv",
    "pycharm": {
     "name": "#%%\n"
    }
   },
   "execution_count": null,
   "outputs": []
  }
 ]
}